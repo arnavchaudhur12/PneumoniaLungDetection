{
 "cells": [
  {
   "cell_type": "code",
   "execution_count": 1,
   "metadata": {},
   "outputs": [
    {
     "name": "stdout",
     "output_type": "stream",
     "text": [
      "WARNING:tensorflow:From c:\\Users\\ARNAB\\AppData\\Local\\Programs\\Python\\Python311\\Lib\\site-packages\\keras\\src\\losses.py:2976: The name tf.losses.sparse_softmax_cross_entropy is deprecated. Please use tf.compat.v1.losses.sparse_softmax_cross_entropy instead.\n",
      "\n"
     ]
    }
   ],
   "source": [
    "import tensorflow\n",
    "from tensorflow.keras.models import Sequential\n",
    "from tensorflow.keras.layers import Conv2D\n",
    "from tensorflow.keras.layers import MaxPooling2D\n",
    "from tensorflow.keras.layers import Flatten\n",
    "from tensorflow.keras.layers import Dense\n",
    "from tensorflow.keras.preprocessing.image import ImageDataGenerator\n",
    "import numpy as np\n",
    "from tensorflow.keras.preprocessing import image\n",
    "import os\n",
    "import matplotlib.pyplot as plt\n",
    "import cv2"
   ]
  },
  {
   "cell_type": "code",
   "execution_count": 2,
   "metadata": {},
   "outputs": [],
   "source": [
    "image_dims = 128\n",
    "batch_size = 64"
   ]
  },
  {
   "cell_type": "code",
   "execution_count": 34,
   "metadata": {},
   "outputs": [],
   "source": [
    "from keras.models import Sequential\n",
    "from keras.layers import Conv2D, MaxPooling2D, Flatten, Dense\n",
    "\n",
    "model = Sequential()\n",
    "\n",
    "model.add(Conv2D(64, (3, 3), activation='relu', input_shape=(image_dims, image_dims, 3)))\n",
    "model.add(MaxPooling2D((2, 2)))\n",
    "\n",
    "model.add(Conv2D(64, (3, 3), activation='relu'))\n",
    "model.add(MaxPooling2D((2, 2)))\n",
    "\n",
    "model.add(Conv2D(64, (3, 3), activation='relu'))\n",
    "model.add(MaxPooling2D((2, 2)))\n",
    "\n",
    "model.add(Flatten())\n",
    "\n",
    "# The number of nodes in the Dense layer should match the output of the Flatten layer\n",
    "model.add(Dense(128, activation='relu'))\n",
    "\n",
    "model.add(Dense(1, activation='sigmoid'))\n"
   ]
  },
  {
   "cell_type": "code",
   "execution_count": 35,
   "metadata": {},
   "outputs": [
    {
     "name": "stdout",
     "output_type": "stream",
     "text": [
      "Model: \"sequential_2\"\n",
      "_________________________________________________________________\n",
      " Layer (type)                Output Shape              Param #   \n",
      "=================================================================\n",
      " conv2d_3 (Conv2D)           (None, 222, 222, 64)      1792      \n",
      "                                                                 \n",
      " max_pooling2d_3 (MaxPoolin  (None, 111, 111, 64)      0         \n",
      " g2D)                                                            \n",
      "                                                                 \n",
      " conv2d_4 (Conv2D)           (None, 109, 109, 64)      36928     \n",
      "                                                                 \n",
      " max_pooling2d_4 (MaxPoolin  (None, 54, 54, 64)        0         \n",
      " g2D)                                                            \n",
      "                                                                 \n",
      " conv2d_5 (Conv2D)           (None, 52, 52, 64)        36928     \n",
      "                                                                 \n",
      " max_pooling2d_5 (MaxPoolin  (None, 26, 26, 64)        0         \n",
      " g2D)                                                            \n",
      "                                                                 \n",
      " flatten_2 (Flatten)         (None, 43264)             0         \n",
      "                                                                 \n",
      " dense_4 (Dense)             (None, 128)               5537920   \n",
      "                                                                 \n",
      " dense_5 (Dense)             (None, 1)                 129       \n",
      "                                                                 \n",
      "=================================================================\n",
      "Total params: 5613697 (21.41 MB)\n",
      "Trainable params: 5613697 (21.41 MB)\n",
      "Non-trainable params: 0 (0.00 Byte)\n",
      "_________________________________________________________________\n"
     ]
    }
   ],
   "source": [
    "model.summary()"
   ]
  },
  {
   "cell_type": "code",
   "execution_count": 36,
   "metadata": {},
   "outputs": [],
   "source": [
    "model.compile(optimizer = 'adam', loss = 'binary_crossentropy', metrics = ['accuracy'])"
   ]
  },
  {
   "cell_type": "code",
   "execution_count": 37,
   "metadata": {},
   "outputs": [
    {
     "name": "stdout",
     "output_type": "stream",
     "text": [
      "Found 5216 images belonging to 2 classes.\n"
     ]
    }
   ],
   "source": [
    "import os\n",
    "from keras.preprocessing.image import ImageDataGenerator\n",
    "\n",
    "# Define your image dimensions and batch size\n",
    "image_dims = 224\n",
    "batch_size = 32\n",
    "\n",
    "# Update the input path using a raw string\n",
    "input_path = r'C:\\Users\\ARNAB\\Desktop\\LungsXray\\LungsXray\\chest_xray'\n",
    "\n",
    "# Generate Training data:\n",
    "training_data_generator = ImageDataGenerator(rescale=1./255,\n",
    "                                              shear_range=0.2,\n",
    "                                              zoom_range=0.2,\n",
    "                                              horizontal_flip=True)\n",
    "\n",
    "# Use os.path.join to concatenate paths\n",
    "training_gen = training_data_generator.flow_from_directory(directory=os.path.join(input_path, 'train'),\n",
    "                                                            target_size=(image_dims, image_dims),\n",
    "                                                            batch_size=batch_size,\n",
    "                                                            class_mode='binary')\n"
   ]
  },
  {
   "cell_type": "code",
   "execution_count": 38,
   "metadata": {},
   "outputs": [
    {
     "name": "stdout",
     "output_type": "stream",
     "text": [
      "Found 16 images belonging to 2 classes.\n"
     ]
    }
   ],
   "source": [
    "# Generate Validation data:\n",
    "validation_data_generator = ImageDataGenerator(rescale=1./255)\n",
    "\n",
    "# Use os.path.join to concatenate paths\n",
    "validation_gen = validation_data_generator.flow_from_directory(directory=os.path.join(input_path, 'val'),\n",
    "                                                                target_size=(image_dims, image_dims),\n",
    "                                                                batch_size=batch_size,\n",
    "                                                                class_mode='binary')\n"
   ]
  },
  {
   "cell_type": "code",
   "execution_count": 40,
   "metadata": {},
   "outputs": [
    {
     "name": "stdout",
     "output_type": "stream",
     "text": [
      "Found 16 images belonging to 2 classes.\n"
     ]
    }
   ],
   "source": [
    "# Generate Validation data:\n",
    "validation_data_generator = ImageDataGenerator(rescale=1./255)\n",
    "\n",
    "validation_gen = validation_data_generator.flow_from_directory(directory=os.path.join(input_path, 'val'),\n",
    "                                                               target_size=(image_dims, image_dims),\n",
    "                                                               batch_size=batch_size,\n",
    "                                                               class_mode='binary')\n"
   ]
  },
  {
   "cell_type": "code",
   "execution_count": 41,
   "metadata": {},
   "outputs": [
    {
     "name": "stdout",
     "output_type": "stream",
     "text": [
      "Found 624 images belonging to 2 classes.\n",
      "5/5 [==============================] - 17s 2s/step - loss: 0.6826 - accuracy: 0.6250\n",
      "Loss rate at evaluation data: 0.6826092004776001\n",
      "Accuracy rate at evaluation data: 0.625\n"
     ]
    }
   ],
   "source": [
    "test_data_generator = ImageDataGenerator(rescale=1./255)\n",
    "\n",
    "test_gen = test_data_generator.flow_from_directory(directory=os.path.join(input_path, 'test'),\n",
    "                                                   target_size=(image_dims, image_dims),\n",
    "                                                   batch_size=128,\n",
    "                                                   class_mode='binary')\n",
    "\n",
    "eval_result = model.evaluate(test_gen)\n",
    "print('Loss rate at evaluation data:', eval_result[0])\n",
    "print('Accuracy rate at evaluation data:', eval_result[1])\n"
   ]
  },
  {
   "cell_type": "code",
   "execution_count": 42,
   "metadata": {},
   "outputs": [
    {
     "name": "stderr",
     "output_type": "stream",
     "text": [
      "C:\\Users\\ARNAB\\AppData\\Local\\Temp\\ipykernel_16632\\3023415710.py:2: UserWarning: `Model.fit_generator` is deprecated and will be removed in a future version. Please use `Model.fit`, which supports generators.\n",
      "  history = model.fit_generator(training_gen,\n"
     ]
    },
    {
     "name": "stdout",
     "output_type": "stream",
     "text": [
      "Epoch 1/10\n",
      "10/10 [==============================] - ETA: 0s - loss: 0.9587 - accuracy: 0.6656WARNING:tensorflow:Your input ran out of data; interrupting training. Make sure that your dataset or generator can generate at least `steps_per_epoch * epochs` batches (in this case, 16 batches). You may need to use the repeat() function when building your dataset.\n",
      "10/10 [==============================] - 16s 1s/step - loss: 0.9587 - accuracy: 0.6656 - val_loss: 1.0304 - val_accuracy: 0.5000\n",
      "Epoch 2/10\n",
      "10/10 [==============================] - 14s 1s/step - loss: 0.5539 - accuracy: 0.7531\n",
      "Epoch 3/10\n",
      "10/10 [==============================] - 13s 1s/step - loss: 0.5301 - accuracy: 0.7594\n",
      "Epoch 4/10\n",
      "10/10 [==============================] - 13s 1s/step - loss: 0.4814 - accuracy: 0.7719\n",
      "Epoch 5/10\n",
      "10/10 [==============================] - 12s 1s/step - loss: 0.4098 - accuracy: 0.8438\n",
      "Epoch 6/10\n",
      "10/10 [==============================] - 14s 1s/step - loss: 0.3115 - accuracy: 0.8750\n",
      "Epoch 7/10\n",
      "10/10 [==============================] - 14s 1s/step - loss: 0.3698 - accuracy: 0.8438\n",
      "Epoch 8/10\n",
      "10/10 [==============================] - 13s 1s/step - loss: 0.3674 - accuracy: 0.8344\n",
      "Epoch 9/10\n",
      "10/10 [==============================] - 13s 1s/step - loss: 0.3793 - accuracy: 0.8094\n",
      "Epoch 10/10\n",
      "10/10 [==============================] - 13s 1s/step - loss: 0.2476 - accuracy: 0.8938\n"
     ]
    }
   ],
   "source": [
    "epochs = 10\n",
    "history = model.fit_generator(training_gen,\n",
    "             steps_per_epoch= 10,\n",
    "             epochs = epochs,\n",
    "             validation_data=validation_gen,\n",
    "             validation_steps= validation_gen.samples)"
   ]
  },
  {
   "cell_type": "code",
   "execution_count": 45,
   "metadata": {},
   "outputs": [
    {
     "data": {
      "image/png": "[encoded data removed]",
      "text/plain": [
       "<Figure size 800x600 with 1 Axes>"
      ]
     },
     "metadata": {},
     "output_type": "display_data"
    },
    {
     "data": {
      "image/png": "[encoded data removed]",
      "text/plain": [
       "<Figure size 800x600 with 1 Axes>"
      ]
     },
     "metadata": {},
     "output_type": "display_data"
    }
   ],
   "source": [
    "plt.figure(figsize=(8,6))\n",
    "plt.title('Lung Pneumonia Accuracy scores')\n",
    "plt.plot(history.history['accuracy'])\n",
    "plt.plot(history.history['val_accuracy'])\n",
    "plt.legend(['accuracy', 'val_accuracy'])\n",
    "plt.show()\n",
    "\n",
    "plt.figure(figsize=(8,6))\n",
    "plt.title('Lung Pnuemonia Loss Value')\n",
    "plt.plot(history.history['loss'])\n",
    "plt.plot(history.history['val_loss'])\n",
    "plt.legend(['loss', 'val_loss'])\n",
    "plt.show()"
   ]
  },
  {
   "cell_type": "code",
   "execution_count": 50,
   "metadata": {},
   "outputs": [],
   "source": [
    "import tensorflow as tf\n",
    "from tensorflow.keras.models import Model\n",
    "import numpy as np\n",
    "import cv2\n",
    "import matplotlib.pyplot as plt\n",
    "\n",
    "# Function to generate heatmap\n",
    "def generate_heatmap(model, img_path, image_dims):\n",
    "    img = cv2.imread(img_path)\n",
    "\n",
    "    # Check if the image is loaded successfully\n",
    "    if img is None:\n",
    "        print(f\"Error: Unable to load the image from path: {img_path}\")\n",
    "        return\n",
    "\n",
    "    # Resize the image\n",
    "    img = cv2.resize(img, (image_dims, image_dims))\n",
    "\n",
    "    # Check if the resized image is empty\n",
    "    if img.size == 0:\n",
    "        print(\"Error: Empty image after resizing.\")\n",
    "        return\n",
    "\n",
    "    img_array = np.expand_dims(img, axis=0) / 255.0\n",
    "\n",
    "    # Get the feature maps and the model prediction\n",
    "    last_conv_layer, predictions = heatmap_model(img_array)\n",
    "\n",
    "\n",
    "    # Extract the class activation map\n",
    "    grad_model = Model(heatmap_model.inputs, [last_conv_layer, heatmap_model.get_layer('dense_1').output])\n",
    "\n",
    "    # Compute the gradient of the top predicted class with respect to the output feature map of the last conv layer\n",
    "    with tf.GradientTape() as tape:\n",
    "        last_conv_layer_output, predictions = grad_model(img_array)\n",
    "        class_idx = np.argmax(predictions[0])\n",
    "        output = predictions[:, class_idx]\n",
    "\n",
    "    # Extract the gradients\n",
    "    grads = tape.gradient(output, last_conv_layer_output)\n",
    "\n",
    "    # Compute the mean intensity of the gradient for each feature map\n",
    "    pooled_grads = tf.reduce_mean(grads, axis=(0, 1, 2))\n",
    "\n",
    "    # Multiply each channel in the feature map array by \"how important this channel is\" with regard to the top predicted class\n",
    "    last_conv_layer_output = last_conv_layer_output[0]\n",
    "    heatmap = last_conv_layer_output @ pooled_grads[..., tf.newaxis]\n",
    "    heatmap = tf.squeeze(heatmap)\n",
    "\n",
    "    # Apply ReLU to the resulting heatmap\n",
    "    heatmap = tf.maximum(heatmap, 0)\n",
    "\n",
    "    # Normalize the heatmap\n",
    "    heatmap /= tf.reduce_max(heatmap)\n",
    "\n",
    "    # Resize the heatmap to match the original image size\n",
    "    heatmap = tf.image.resize(heatmap, (img.shape[1], img.shape[0]))\n",
    "\n",
    "    # Convert the heatmap to a NumPy array\n",
    "    heatmap = heatmap.numpy()\n",
    "\n",
    "    # Superimpose the heatmap on the original image\n",
    "    superimposed_img = cv2.addWeighted(img, 0.6, heatmap[..., np.newaxis], 0.4, 0)\n",
    "\n",
    "    # Display the original image, heatmap, and superimposed image\n",
    "    plt.figure(figsize=(12, 4))\n",
    "\n",
    "    plt.subplot(1, 3, 1)\n",
    "    plt.imshow(cv2.cvtColor(img, cv2.COLOR_BGR2RGB))\n",
    "    plt.title('Original Image')\n",
    "\n",
    "    plt.subplot(1, 3, 2)\n",
    "    plt.imshow(heatmap, cmap='viridis')\n",
    "    plt.title('Class Activation Map')\n",
    "\n",
    "    plt.subplot(1, 3, 3)\n",
    "    plt.imshow(cv2.cvtColor(superimposed_img, cv2.COLOR_BGR2RGB))\n",
    "    plt.title('Superimposed Image')\n",
    "\n",
    "    plt.show()\n",
    "\n"
   ]
  }
 ],
 "metadata": {
  "kernelspec": {
   "display_name": "Python 3",
   "language": "python",
   "name": "python3"
  },
  "language_info": {
   "codemirror_mode": {
    "name": "ipython",
    "version": 3
   },
   "file_extension": ".py",
   "mimetype": "text/x-python",
   "name": "python",
   "nbconvert_exporter": "python",
   "pygments_lexer": "ipython3",
   "version": "3.11.3"
  }
 },
 "nbformat": 4,
 "nbformat_minor": 2
}
