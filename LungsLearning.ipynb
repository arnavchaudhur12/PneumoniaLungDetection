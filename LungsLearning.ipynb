{
 "cells": [
  {
   "cell_type": "code",
   "execution_count": 1,
   "metadata": {},
   "outputs": [
    {
     "name": "stdout",
     "output_type": "stream",
     "text": [
      "WARNING:tensorflow:From c:\\Users\\ARNAB\\AppData\\Local\\Programs\\Python\\Python311\\Lib\\site-packages\\keras\\src\\losses.py:2976: The name tf.losses.sparse_softmax_cross_entropy is deprecated. Please use tf.compat.v1.losses.sparse_softmax_cross_entropy instead.\n",
      "\n"
     ]
    }
   ],
   "source": [
    "import tensorflow\n",
    "from tensorflow.keras.models import Sequential\n",
    "from tensorflow.keras.layers import Conv2D\n",
    "from tensorflow.keras.layers import MaxPooling2D\n",
    "from tensorflow.keras.layers import Flatten\n",
    "from tensorflow.keras.layers import Dense\n",
    "from tensorflow.keras.preprocessing.image import ImageDataGenerator\n",
    "import numpy as np\n",
    "from tensorflow.keras.preprocessing import image\n",
    "import os\n",
    "import matplotlib.pyplot as plt\n",
    "import cv2"
   ]
  },
  {
   "cell_type": "code",
   "execution_count": 2,
   "metadata": {},
   "outputs": [],
   "source": [
    "image_dims = 128\n",
    "batch_size = 64"
   ]
  },
  {
   "cell_type": "code",
   "execution_count": 3,
   "metadata": {},
   "outputs": [
    {
     "name": "stdout",
     "output_type": "stream",
     "text": [
      "WARNING:tensorflow:From c:\\Users\\ARNAB\\AppData\\Local\\Programs\\Python\\Python311\\Lib\\site-packages\\keras\\src\\backend.py:873: The name tf.get_default_graph is deprecated. Please use tf.compat.v1.get_default_graph instead.\n",
      "\n",
      "WARNING:tensorflow:From c:\\Users\\ARNAB\\AppData\\Local\\Programs\\Python\\Python311\\Lib\\site-packages\\keras\\src\\layers\\pooling\\max_pooling2d.py:161: The name tf.nn.max_pool is deprecated. Please use tf.nn.max_pool2d instead.\n",
      "\n"
     ]
    }
   ],
   "source": [
    "from keras.models import Sequential\n",
    "from keras.layers import Conv2D, MaxPooling2D, Flatten, Dense\n",
    "\n",
    "model = Sequential()\n",
    "\n",
    "model.add(Conv2D(64, (3, 3), activation='relu', input_shape=(image_dims, image_dims, 3)))\n",
    "model.add(MaxPooling2D((2, 2)))\n",
    "\n",
    "model.add(Conv2D(64, (3, 3), activation='relu'))\n",
    "model.add(MaxPooling2D((2, 2)))\n",
    "\n",
    "model.add(Conv2D(64, (3, 3), activation='relu'))\n",
    "model.add(MaxPooling2D((2, 2)))\n",
    "\n",
    "model.add(Flatten())\n",
    "\n",
    "# The number of nodes in the Dense layer should match the output of the Flatten layer\n",
    "model.add(Dense(128, activation='relu'))\n",
    "\n",
    "model.add(Dense(1, activation='sigmoid'))\n"
   ]
  },
  {
   "cell_type": "code",
   "execution_count": 4,
   "metadata": {},
   "outputs": [
    {
     "name": "stdout",
     "output_type": "stream",
     "text": [
      "Model: \"sequential\"\n",
      "_________________________________________________________________\n",
      " Layer (type)                Output Shape              Param #   \n",
      "=================================================================\n",
      " conv2d (Conv2D)             (None, 126, 126, 64)      1792      \n",
      "                                                                 \n",
      " max_pooling2d (MaxPooling2  (None, 63, 63, 64)        0         \n",
      " D)                                                              \n",
      "                                                                 \n",
      " conv2d_1 (Conv2D)           (None, 61, 61, 64)        36928     \n",
      "                                                                 \n",
      " max_pooling2d_1 (MaxPoolin  (None, 30, 30, 64)        0         \n",
      " g2D)                                                            \n",
      "                                                                 \n",
      " conv2d_2 (Conv2D)           (None, 28, 28, 64)        36928     \n",
      "                                                                 \n",
      " max_pooling2d_2 (MaxPoolin  (None, 14, 14, 64)        0         \n",
      " g2D)                                                            \n",
      "                                                                 \n",
      " flatten (Flatten)           (None, 12544)             0         \n",
      "                                                                 \n",
      " dense (Dense)               (None, 128)               1605760   \n",
      "                                                                 \n",
      " dense_1 (Dense)             (None, 1)                 129       \n",
      "                                                                 \n",
      "=================================================================\n",
      "Total params: 1681537 (6.41 MB)\n",
      "Trainable params: 1681537 (6.41 MB)\n",
      "Non-trainable params: 0 (0.00 Byte)\n",
      "_________________________________________________________________\n"
     ]
    }
   ],
   "source": [
    "model.summary()"
   ]
  },
  {
   "cell_type": "code",
   "execution_count": 5,
   "metadata": {},
   "outputs": [
    {
     "name": "stdout",
     "output_type": "stream",
     "text": [
      "WARNING:tensorflow:From c:\\Users\\ARNAB\\AppData\\Local\\Programs\\Python\\Python311\\Lib\\site-packages\\keras\\src\\optimizers\\__init__.py:309: The name tf.train.Optimizer is deprecated. Please use tf.compat.v1.train.Optimizer instead.\n",
      "\n"
     ]
    }
   ],
   "source": [
    "model.compile(optimizer = 'adam', loss = 'binary_crossentropy', metrics = ['accuracy'])"
   ]
  },
  {
   "cell_type": "code",
   "execution_count": 6,
   "metadata": {},
   "outputs": [
    {
     "name": "stdout",
     "output_type": "stream",
     "text": [
      "Found 5216 images belonging to 2 classes.\n"
     ]
    }
   ],
   "source": [
    "import os\n",
    "from keras.preprocessing.image import ImageDataGenerator\n",
    "\n",
    "# Define your image dimensions and batch size\n",
    "image_dims = 224\n",
    "batch_size = 32\n",
    "\n",
    "# Update the input path using a raw string\n",
    "input_path = r'C:\\Users\\ARNAB\\Desktop\\LungsXray\\LungsXray\\chest_xray'\n",
    "\n",
    "# Generate Training data:\n",
    "training_data_generator = ImageDataGenerator(rescale=1./255,\n",
    "                                              shear_range=0.2,\n",
    "                                              zoom_range=0.2,\n",
    "                                              horizontal_flip=True)\n",
    "\n",
    "# Use os.path.join to concatenate paths\n",
    "training_gen = training_data_generator.flow_from_directory(directory=os.path.join(input_path, 'train'),\n",
    "                                                            target_size=(image_dims, image_dims),\n",
    "                                                            batch_size=batch_size,\n",
    "                                                            class_mode='binary')\n"
   ]
  },
  {
   "cell_type": "code",
   "execution_count": 7,
   "metadata": {},
   "outputs": [
    {
     "name": "stdout",
     "output_type": "stream",
     "text": [
      "Found 16 images belonging to 2 classes.\n"
     ]
    }
   ],
   "source": [
    "# Generate Validation data:\n",
    "validation_data_generator = ImageDataGenerator(rescale=1./255)\n",
    "\n",
    "# Use os.path.join to concatenate paths\n",
    "validation_gen = validation_data_generator.flow_from_directory(directory=os.path.join(input_path, 'val'),\n",
    "                                                                target_size=(image_dims, image_dims),\n",
    "                                                                batch_size=batch_size,\n",
    "                                                                class_mode='binary')\n"
   ]
  },
  {
   "cell_type": "code",
   "execution_count": 8,
   "metadata": {},
   "outputs": [
    {
     "name": "stdout",
     "output_type": "stream",
     "text": [
      "Found 16 images belonging to 2 classes.\n"
     ]
    }
   ],
   "source": [
    "# Generate Validation data:\n",
    "validation_data_generator = ImageDataGenerator(rescale=1./255)\n",
    "\n",
    "validation_gen = validation_data_generator.flow_from_directory(directory=os.path.join(input_path, 'val'),\n",
    "                                                               target_size=(image_dims, image_dims),\n",
    "                                                               batch_size=batch_size,\n",
    "                                                               class_mode='binary')\n"
   ]
  },
  {
   "cell_type": "code",
   "execution_count": 10,
   "metadata": {},
   "outputs": [
    {
     "name": "stdout",
     "output_type": "stream",
     "text": [
      "Found 5216 images belonging to 2 classes.\n",
      "Found 16 images belonging to 2 classes.\n",
      "Found 624 images belonging to 2 classes.\n"
     ]
    },
    {
     "name": "stderr",
     "output_type": "stream",
     "text": [
      "C:\\Users\\ARNAB\\AppData\\Local\\Temp\\ipykernel_27812\\2964564914.py:49: UserWarning: `Model.fit_generator` is deprecated and will be removed in a future version. Please use `Model.fit`, which supports generators.\n",
      "  history = model.fit_generator(training_gen,\n"
     ]
    },
    {
     "name": "stdout",
     "output_type": "stream",
     "text": [
      "Epoch 1/10\n",
      "10/10 [==============================] - ETA: 0s - loss: 0.7286 - accuracy: 0.6469WARNING:tensorflow:Your input ran out of data; interrupting training. Make sure that your dataset or generator can generate at least `steps_per_epoch * epochs` batches (in this case, 16 batches). You may need to use the repeat() function when building your dataset.\n",
      "10/10 [==============================] - 18s 1s/step - loss: 0.7286 - accuracy: 0.6469 - val_loss: 0.7012 - val_accuracy: 0.5000\n",
      "Epoch 2/10\n",
      "10/10 [==============================] - 14s 1s/step - loss: 0.5806 - accuracy: 0.7563\n",
      "Epoch 3/10\n",
      "10/10 [==============================] - 14s 1s/step - loss: 0.5760 - accuracy: 0.7250\n",
      "Epoch 4/10\n",
      "10/10 [==============================] - 14s 1s/step - loss: 0.4321 - accuracy: 0.8344\n",
      "Epoch 5/10\n",
      "10/10 [==============================] - 14s 1s/step - loss: 0.3316 - accuracy: 0.8625\n",
      "Epoch 6/10\n",
      "10/10 [==============================] - 15s 1s/step - loss: 0.2812 - accuracy: 0.8781\n",
      "Epoch 7/10\n",
      "10/10 [==============================] - 16s 2s/step - loss: 0.2687 - accuracy: 0.8813\n",
      "Epoch 8/10\n",
      "10/10 [==============================] - 16s 2s/step - loss: 0.2814 - accuracy: 0.8719\n",
      "Epoch 9/10\n",
      "10/10 [==============================] - 16s 2s/step - loss: 0.2600 - accuracy: 0.8906\n",
      "Epoch 10/10\n",
      "10/10 [==============================] - 15s 2s/step - loss: 0.2163 - accuracy: 0.9219\n"
     ]
    },
    {
     "name": "stderr",
     "output_type": "stream",
     "text": [
      "C:\\Users\\ARNAB\\AppData\\Local\\Temp\\ipykernel_27812\\2964564914.py:56: UserWarning: `Model.evaluate_generator` is deprecated and will be removed in a future version. Please use `Model.evaluate`, which supports generators.\n",
      "  eval_result = model.evaluate_generator(test_gen)\n"
     ]
    },
    {
     "name": "stdout",
     "output_type": "stream",
     "text": [
      "Loss rate at evaluation data: 0.706682562828064\n",
      "Accuracy rate at evaluation data: 0.7532051205635071\n"
     ]
    }
   ],
   "source": [
    "import os\n",
    "import cv2\n",
    "import numpy as np\n",
    "import matplotlib.pyplot as plt\n",
    "import tensorflow as tf\n",
    "from tensorflow.keras.models import Sequential, Model\n",
    "from tensorflow.keras.layers import Conv2D, MaxPooling2D, Flatten, Dense\n",
    "from tensorflow.keras.preprocessing.image import ImageDataGenerator\n",
    "\n",
    "# Define image dimensions and batch size\n",
    "image_dims = 224\n",
    "batch_size = 32\n",
    "\n",
    "# Define the input path\n",
    "input_path = r'C:\\Users\\ARNAB\\Desktop\\LungsXray\\LungsXray\\chest_xray'\n",
    "\n",
    "# Create the model\n",
    "model = Sequential()\n",
    "model.add(Conv2D(64, (3, 3), activation='relu', input_shape=(image_dims, image_dims, 3)))\n",
    "model.add(MaxPooling2D((2, 2)))\n",
    "model.add(Conv2D(64, (3, 3), activation='relu'))\n",
    "model.add(MaxPooling2D((2, 2)))\n",
    "model.add(Conv2D(64, (3, 3), activation='relu'))\n",
    "model.add(MaxPooling2D((2, 2)))\n",
    "model.add(Flatten())\n",
    "model.add(Dense(128, activation='relu'))\n",
    "model.add(Dense(1, activation='sigmoid'))\n",
    "model.compile(optimizer='adam', loss='binary_crossentropy', metrics=['accuracy'])\n",
    "\n",
    "# Create data generators\n",
    "training_data_generator = ImageDataGenerator(rescale=1./255, shear_range=0.2, zoom_range=0.2, horizontal_flip=True)\n",
    "training_gen = training_data_generator.flow_from_directory(directory=os.path.join(input_path, 'train'),\n",
    "                                                           target_size=(image_dims, image_dims),\n",
    "                                                           batch_size=batch_size,\n",
    "                                                           class_mode='binary')\n",
    "validation_data_generator = ImageDataGenerator(rescale=1./255)\n",
    "validation_gen = validation_data_generator.flow_from_directory(directory=os.path.join(input_path, 'val'),\n",
    "                                                               target_size=(image_dims, image_dims),\n",
    "                                                               batch_size=batch_size,\n",
    "                                                               class_mode='binary')\n",
    "test_data_generator = ImageDataGenerator(rescale=1./255)\n",
    "test_gen = test_data_generator.flow_from_directory(directory=os.path.join(input_path, 'test'),\n",
    "                                                   target_size=(image_dims, image_dims),\n",
    "                                                   batch_size=128,\n",
    "                                                   class_mode='binary')\n",
    "\n",
    "# Train the model\n",
    "epochs = 10\n",
    "history = model.fit_generator(training_gen,\n",
    "                              steps_per_epoch=10,\n",
    "                              epochs=epochs,\n",
    "                              validation_data=validation_gen,\n",
    "                              validation_steps=validation_gen.samples)\n",
    "\n",
    "# Evaluate the model on test data\n",
    "eval_result = model.evaluate_generator(test_gen)\n",
    "print('Loss rate at evaluation data:', eval_result[0])\n",
    "print('Accuracy rate at evaluation data:', eval_result[1])\n"
   ]
  },
  {
   "cell_type": "code",
   "execution_count": 11,
   "metadata": {},
   "outputs": [
    {
     "name": "stderr",
     "output_type": "stream",
     "text": [
      "C:\\Users\\ARNAB\\AppData\\Local\\Temp\\ipykernel_27812\\3023415710.py:2: UserWarning: `Model.fit_generator` is deprecated and will be removed in a future version. Please use `Model.fit`, which supports generators.\n",
      "  history = model.fit_generator(training_gen,\n"
     ]
    },
    {
     "name": "stdout",
     "output_type": "stream",
     "text": [
      "Epoch 1/10\n",
      "10/10 [==============================] - ETA: 0s - loss: 0.2586 - accuracy: 0.9062WARNING:tensorflow:Your input ran out of data; interrupting training. Make sure that your dataset or generator can generate at least `steps_per_epoch * epochs` batches (in this case, 16 batches). You may need to use the repeat() function when building your dataset.\n",
      "10/10 [==============================] - 19s 2s/step - loss: 0.2586 - accuracy: 0.9062 - val_loss: 0.6719 - val_accuracy: 0.6250\n",
      "Epoch 2/10\n",
      "10/10 [==============================] - 17s 2s/step - loss: 0.3235 - accuracy: 0.8719\n",
      "Epoch 3/10\n",
      "10/10 [==============================] - 15s 2s/step - loss: 0.2965 - accuracy: 0.8594\n",
      "Epoch 4/10\n",
      "10/10 [==============================] - 16s 2s/step - loss: 0.2559 - accuracy: 0.9031\n",
      "Epoch 5/10\n",
      "10/10 [==============================] - 16s 2s/step - loss: 0.2454 - accuracy: 0.8781\n",
      "Epoch 6/10\n",
      "10/10 [==============================] - 14s 1s/step - loss: 0.2226 - accuracy: 0.9031\n",
      "Epoch 7/10\n",
      "10/10 [==============================] - 15s 1s/step - loss: 0.2320 - accuracy: 0.9031\n",
      "Epoch 8/10\n",
      "10/10 [==============================] - 14s 1s/step - loss: 0.2738 - accuracy: 0.8781\n",
      "Epoch 9/10\n",
      "10/10 [==============================] - 15s 1s/step - loss: 0.2600 - accuracy: 0.8875\n",
      "Epoch 10/10\n",
      "10/10 [==============================] - 15s 1s/step - loss: 0.2171 - accuracy: 0.9000\n"
     ]
    }
   ],
   "source": [
    "epochs = 10\n",
    "history = model.fit_generator(training_gen,\n",
    "             steps_per_epoch= 10,\n",
    "             epochs = epochs,\n",
    "             validation_data=validation_gen,\n",
    "             validation_steps= validation_gen.samples)"
   ]
  },
  {
   "cell_type": "code",
   "execution_count": 12,
   "metadata": {},
   "outputs": [
    {
     "data": {
      "image/png": "[encoded data removed]",
      "text/plain": [
       "<Figure size 800x600 with 1 Axes>"
      ]
     },
     "metadata": {},
     "output_type": "display_data"
    },
    {
     "data": {
      "image/png": "[encoded data removed]",
      "text/plain": [
       "<Figure size 800x600 with 1 Axes>"
      ]
     },
     "metadata": {},
     "output_type": "display_data"
    }
   ],
   "source": [
    "plt.figure(figsize=(8,6))\n",
    "plt.title('Lung Pneumonia Accuracy scores')\n",
    "plt.plot(history.history['accuracy'])\n",
    "plt.plot(history.history['val_accuracy'])\n",
    "plt.legend(['accuracy', 'val_accuracy'])\n",
    "plt.show()\n",
    "\n",
    "plt.figure(figsize=(8,6))\n",
    "plt.title('Lung Pnuemonia Loss Value')\n",
    "plt.plot(history.history['loss'])\n",
    "plt.plot(history.history['val_loss'])\n",
    "plt.legend(['loss', 'val_loss'])\n",
    "plt.show()"
   ]
  }
 ],
 "metadata": {
  "kernelspec": {
   "display_name": "Python 3",
   "language": "python",
   "name": "python3"
  },
  "language_info": {
   "codemirror_mode": {
    "name": "ipython",
    "version": 3
   },
   "file_extension": ".py",
   "mimetype": "text/x-python",
   "name": "python",
   "nbconvert_exporter": "python",
   "pygments_lexer": "ipython3",
   "version": "3.11.3"
  }
 },
 "nbformat": 4,
 "nbformat_minor": 2
}
